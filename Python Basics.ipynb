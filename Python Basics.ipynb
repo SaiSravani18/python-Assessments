{
 "cells": [
  {
   "cell_type": "code",
   "execution_count": 1,
   "id": "535aa59e",
   "metadata": {},
   "outputs": [
    {
     "name": "stdout",
     "output_type": "stream",
     "text": [
      "Sai Sravani\n"
     ]
    }
   ],
   "source": [
    "#program-1:print your name\n",
    "print(\"Sai Sravani\")"
   ]
  },
  {
   "cell_type": "code",
   "execution_count": 2,
   "id": "bbe7e620",
   "metadata": {},
   "outputs": [
    {
     "name": "stdout",
     "output_type": "stream",
     "text": [
      "this is single line\n",
      "this is multi-line\n"
     ]
    }
   ],
   "source": [
    "#program-2:single line comment and multi-line comments\n",
    "print(\"this is single line\")  # this is single-line comment\n",
    "\n",
    "\"\"\"\n",
    "This section contains a multi-line comment.\n",
    "It can be used to write multiple lines of code.\n",
    "\n",
    "\"\"\"\n",
    "\n",
    "'''\n",
    "Another example of a multi-line comment.\n",
    "It can also be written multi lines here.\n",
    "'''\n",
    "\n",
    "print(\"this is multi-line\")"
   ]
  },
  {
   "cell_type": "code",
   "execution_count": 3,
   "id": "b16e02dc",
   "metadata": {},
   "outputs": [
    {
     "name": "stdout",
     "output_type": "stream",
     "text": [
      "Integer value: 54\n",
      "Boolean value: True\n",
      "Char value: S\n",
      "Float value: 19.8\n",
      "Double value: 18.1\n"
     ]
    }
   ],
   "source": [
    "#program-3:print variables for different data types\n",
    "\n",
    "my_int = 54\n",
    "my_boolean = True\n",
    "my_char = 'S'  \n",
    "my_float = 19.8\n",
    "my_double = 18.10  \n",
    "\n",
    "\n",
    "print(\"Integer value:\", my_int)\n",
    "print(\"Boolean value:\", my_boolean)\n",
    "print(\"Char value:\", my_char)\n",
    "print(\"Float value:\", my_float)\n",
    "print(\"Double value:\", my_double)"
   ]
  },
  {
   "cell_type": "code",
   "execution_count": 4,
   "id": "75d7cbe7",
   "metadata": {},
   "outputs": [
    {
     "name": "stdout",
     "output_type": "stream",
     "text": [
      "Local variable x: 20\n",
      "Global variable x: 54\n"
     ]
    }
   ],
   "source": [
    "#program-4:local and global variables\n",
    "# Global variable\n",
    "x = 54 \n",
    "\n",
    "def my_function():\n",
    "    # Local variable with the same name\n",
    "    x = 20  \n",
    "    print(\"Local variable x:\", x)  \n",
    "my_function()\n",
    "\n",
    "# Print the global variable\n",
    "print(\"Global variable x:\", x) "
   ]
  },
  {
   "cell_type": "code",
   "execution_count": null,
   "id": "b99a9bb4",
   "metadata": {},
   "outputs": [],
   "source": []
  }
 ],
 "metadata": {
  "kernelspec": {
   "display_name": "Python 3 (ipykernel)",
   "language": "python",
   "name": "python3"
  },
  "language_info": {
   "codemirror_mode": {
    "name": "ipython",
    "version": 3
   },
   "file_extension": ".py",
   "mimetype": "text/x-python",
   "name": "python",
   "nbconvert_exporter": "python",
   "pygments_lexer": "ipython3",
   "version": "3.9.13"
  }
 },
 "nbformat": 4,
 "nbformat_minor": 5
}
