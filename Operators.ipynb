{
 "cells": [
  {
   "cell_type": "code",
   "execution_count": 2,
   "id": "ebd7d424",
   "metadata": {},
   "outputs": [
    {
     "name": "stdout",
     "output_type": "stream",
     "text": [
      "Addition: 12\n",
      "Subtraction: -8\n",
      "Multiplication: 20\n",
      "Division: 0.2\n"
     ]
    }
   ],
   "source": [
    "#python Operators\n",
    "#program-1:creating a function for operators\n",
    "def arithmetic_operations(a, b):\n",
    "    addition = a + b\n",
    "    subtraction = a - b\n",
    "    multiplication = a * b\n",
    "    division = a / b if b != 0 else \"Undefined (division by zero)\"\n",
    "\n",
    "    return addition, subtraction, multiplication, division\n",
    "\n",
    "num1 = 2\n",
    "num2 = 10\n",
    "results = arithmetic_operations(num1, num2)\n",
    "\n",
    "print(f\"Addition: {results[0]}\")\n",
    "print(f\"Subtraction: {results[1]}\")\n",
    "print(f\"Multiplication: {results[2]}\")\n",
    "print(f\"Division: {results[3]}\")\n"
   ]
  },
  {
   "cell_type": "code",
   "execution_count": 3,
   "id": "eda301a0",
   "metadata": {},
   "outputs": [
    {
     "name": "stdout",
     "output_type": "stream",
     "text": [
      "Original value: 54\n",
      "After increment: 55\n",
      "After decrement: 54\n"
     ]
    }
   ],
   "source": [
    "#program-2:print incerase/decrease operators\n",
    "def increment_decrement(value):\n",
    "    print(f\"Original value: {value}\")\n",
    "\n",
    "    #increase\n",
    "    value += 1\n",
    "    print(f\"After increment: {value}\")\n",
    "\n",
    "    #decrease\n",
    "    value -= 1\n",
    "    print(f\"After decrement: {value}\")\n",
    "\n",
    "\n",
    "num = 54\n",
    "increment_decrement(num)"
   ]
  },
  {
   "cell_type": "code",
   "execution_count": 5,
   "id": "e4bf5549",
   "metadata": {},
   "outputs": [
    {
     "name": "stdout",
     "output_type": "stream",
     "text": [
      "Enter the first num: 18\n",
      "Enter the second num: 19\n",
      "The two numbers are equal.\n"
     ]
    }
   ],
   "source": [
    "#program-3:find two numbers are equal or not\n",
    "number1 = int(input(\"Enter the first num: \"))\n",
    "number2 = int(input(\"Enter the second num: \"))\n",
    "\n",
    "\n",
    "if number1 == number2:\n",
    "    print(\"The two numbers are equal.\")\n",
    "else:\n",
    "    print(\"The two numbers are not equal.\")"
   ]
  },
  {
   "cell_type": "code",
   "execution_count": 6,
   "id": "340eb4f1",
   "metadata": {},
   "outputs": [
    {
     "name": "stdout",
     "output_type": "stream",
     "text": [
      "Enter the first number: 10\n",
      "Enter the second number: 18\n",
      "10 < 18: True\n",
      "10 <= 18: True\n",
      "10 > 18: False\n",
      "10 >= 18: False\n"
     ]
    }
   ],
   "source": [
    "#program-4:print relational operators\n",
    "num1 = int(input(\"Enter the first number: \"))\n",
    "num2 = int(input(\"Enter the second number: \"))\n",
    "\n",
    "print(f\"{num1} < {num2}: {num1 < num2}\")\n",
    "print(f\"{num1} <= {num2}: {num1 <= num2}\")\n",
    "print(f\"{num1} > {num2}: {num1 > num2}\")   \n",
    "print(f\"{num1} >= {num2}: {num1 >= num2}\") "
   ]
  },
  {
   "cell_type": "code",
   "execution_count": 10,
   "id": "4e2ca75e",
   "metadata": {},
   "outputs": [
    {
     "name": "stdout",
     "output_type": "stream",
     "text": [
      "Enter the first number: 15\n",
      "Enter the second number: 2\n",
      "The smaller num is: 2\n",
      "The larger num is: 15\n"
     ]
    }
   ],
   "source": [
    "#program-5:print smaller and larger numbers\n",
    "a = int(input(\"Enter the first number: \"))\n",
    "b = int(input(\"Enter the second number: \"))\n",
    "\n",
    "if a < b:\n",
    "    print(f\"The smaller num is: {a}\")\n",
    "    print(f\"The larger num is: {b}\")\n",
    "elif a > b:\n",
    "    print(f\"The smaller num is: {b}\")\n",
    "    print(f\"The larger num is: {a}\")\n",
    "else:\n",
    "    print(\"Both numbers are equal.\")"
   ]
  },
  {
   "cell_type": "code",
   "execution_count": null,
   "id": "6df86a0e",
   "metadata": {},
   "outputs": [],
   "source": []
  }
 ],
 "metadata": {
  "kernelspec": {
   "display_name": "Python 3 (ipykernel)",
   "language": "python",
   "name": "python3"
  },
  "language_info": {
   "codemirror_mode": {
    "name": "ipython",
    "version": 3
   },
   "file_extension": ".py",
   "mimetype": "text/x-python",
   "name": "python",
   "nbconvert_exporter": "python",
   "pygments_lexer": "ipython3",
   "version": "3.9.13"
  }
 },
 "nbformat": 4,
 "nbformat_minor": 5
}
