{
 "cells": [
  {
   "cell_type": "code",
   "execution_count": 2,
   "id": "66fece2f",
   "metadata": {},
   "outputs": [
    {
     "name": "stdout",
     "output_type": "stream",
     "text": [
      "Accessing static variable: 100\n",
      "Accessing static variable through instance: 100\n",
      "Accessing static variable using class method: 100\n"
     ]
    }
   ],
   "source": [
    "#Static\n",
    "#program-1: static variable and access that through a class \n",
    "class Example:\n",
    "    static_var = 100 \n",
    "\n",
    "    def __init__(self, value):  \n",
    "        self.instance_var = value \n",
    "\n",
    "    @classmethod\n",
    "    def access_static(cls):\n",
    "        return cls.static_var  \n",
    "\n",
    "print(f\"Accessing static variable: {Example.static_var}\")\n",
    "\n",
    "obj1 = Example(50)\n",
    "\n",
    "print(f\"Accessing static variable through instance: {obj1.static_var}\")\n",
    "\n",
    "print(f\"Accessing static variable using class method: {Example.access_static()}\")\n",
    "\n",
    "\n"
   ]
  },
  {
   "cell_type": "code",
   "execution_count": 3,
   "id": "0903f18a",
   "metadata": {},
   "outputs": [
    {
     "name": "stdout",
     "output_type": "stream",
     "text": [
      "Accessing static variable through instance: 100\n",
      "Accessing static variable through class: 100\n",
      "Accessing static variable through instance after modification: 200\n"
     ]
    }
   ],
   "source": [
    "#program-2:static variable and access that through a instance \n",
    "class Example:\n",
    "    static_var = 100  \n",
    "\n",
    "    def __init__(self, value):\n",
    "        self.instance_var = value  \n",
    "\n",
    "\n",
    "obj1 = Example(50)\n",
    "\n",
    "\n",
    "print(f\"Accessing static variable through instance: {obj1.static_var}\")\n",
    "\n",
    "obj1.static_var = 200\n",
    "\n",
    "print(f\"Accessing static variable through class: {Example.static_var}\")\n",
    "\n",
    "print(f\"Accessing static variable through instance after modification: {obj1.static_var}\")\n"
   ]
  },
  {
   "cell_type": "code",
   "execution_count": 4,
   "id": "69050ee9",
   "metadata": {},
   "outputs": [
    {
     "name": "stdout",
     "output_type": "stream",
     "text": [
      "Before modification: 100\n",
      "Before modification: 100\n",
      "After modification: 200\n",
      "After modification: 200\n",
      "Accessing through class: 200\n"
     ]
    }
   ],
   "source": [
    "#program-3:static variable and change within the instance\n",
    "class Example:\n",
    "    static_var = 100\n",
    "\n",
    "    def __init__(self, value):\n",
    "        self.instance_var = value  \n",
    "\n",
    "    def modify_static(self, new_value):\n",
    "        Example.static_var = new_value  \n",
    "\n",
    "obj1 = Example(50)\n",
    "obj2 = Example(60)\n",
    "\n",
    "\n",
    "print(f\"Before modification: {obj1.static_var}\")  \n",
    "print(f\"Before modification: {obj2.static_var}\")  \n",
    "\n",
    "obj1.modify_static(200)\n",
    "\n",
    "print(f\"After modification: {obj1.static_var}\")  \n",
    "print(f\"After modification: {obj2.static_var}\")  \n",
    "print(f\"Accessing through class: {Example.static_var}\") \n"
   ]
  },
  {
   "cell_type": "code",
   "execution_count": 5,
   "id": "bae38a47",
   "metadata": {},
   "outputs": [
    {
     "name": "stdout",
     "output_type": "stream",
     "text": [
      "Before modification: 100\n",
      "After modification: 200\n"
     ]
    }
   ],
   "source": [
    "#program-4: static variable and change within the class \n",
    "class Example:\n",
    "    static_var = 100  \n",
    "\n",
    "    @classmethod\n",
    "    def modify_static(cls, new_value):\n",
    "        cls.static_var = new_value  \n",
    "\n",
    "print(f\"Before modification: {Example.static_var}\")\n",
    "\n",
    "Example.modify_static(200)\n",
    "\n",
    "\n",
    "print(f\"After modification: {Example.static_var}\") \n"
   ]
  },
  {
   "cell_type": "code",
   "execution_count": null,
   "id": "890512a0",
   "metadata": {},
   "outputs": [],
   "source": []
  }
 ],
 "metadata": {
  "kernelspec": {
   "display_name": "Python 3 (ipykernel)",
   "language": "python",
   "name": "python3"
  },
  "language_info": {
   "codemirror_mode": {
    "name": "ipython",
    "version": 3
   },
   "file_extension": ".py",
   "mimetype": "text/x-python",
   "name": "python",
   "nbconvert_exporter": "python",
   "pygments_lexer": "ipython3",
   "version": "3.9.13"
  }
 },
 "nbformat": 4,
 "nbformat_minor": 5
}
