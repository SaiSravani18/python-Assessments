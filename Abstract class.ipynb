{
 "cells": [
  {
   "cell_type": "code",
   "execution_count": 1,
   "id": "71254b81",
   "metadata": {},
   "outputs": [
    {
     "name": "stdout",
     "output_type": "stream",
     "text": [
      "Non-abstract method from BaseClass.\n"
     ]
    }
   ],
   "source": [
    "#Abstract class\n",
    "#program-1:abstract class with abstract and non-abstract methods\n",
    "from abc import ABC, abstractmethod\n",
    "\n",
    "class BaseClass(ABC):\n",
    "    @abstractmethod\n",
    "    def abstract_method(self):\n",
    "        pass\n",
    "    \n",
    "    def non_abstract_method(self):\n",
    "        print(\"Non-abstract method from BaseClass.\")\n",
    "\n",
    "class ChildClass(BaseClass):\n",
    "    def abstract_method(self):\n",
    "        print(\"Implemented abstract method.\")\n",
    "    \n",
    "    def create_and_use_instance(self):\n",
    "        ChildClass().non_abstract_method()\n",
    "\n",
    "\n",
    "ChildClass().create_and_use_instance()"
   ]
  },
  {
   "cell_type": "code",
   "execution_count": 2,
   "id": "63f01796",
   "metadata": {},
   "outputs": [
    {
     "name": "stdout",
     "output_type": "stream",
     "text": [
      "Abstract method implemented.\n",
      "Non-abstract method.\n"
     ]
    }
   ],
   "source": [
    "#program-2: Create an object in the child class for the abstract class and access the non-abstract methods\n",
    "from abc import ABC, abstractmethod\n",
    "\n",
    "class MyAbstractClass(ABC):\n",
    "    @abstractmethod\n",
    "    def abstract_method(self):\n",
    "        pass\n",
    "    \n",
    "    def non_abstract_method(self):\n",
    "        print(\"Non-abstract method.\")\n",
    "\n",
    "class ConcreteClass(MyAbstractClass):\n",
    "    def abstract_method(self):\n",
    "        print(\"Abstract method implemented.\")\n",
    "\n",
    "obj = ConcreteClass()\n",
    "obj.abstract_method()\n",
    "obj.non_abstract_method()"
   ]
  },
  {
   "cell_type": "code",
   "execution_count": 3,
   "id": "5e535a8b",
   "metadata": {},
   "outputs": [
    {
     "name": "stdout",
     "output_type": "stream",
     "text": [
      "Abstract method implemented.\n"
     ]
    }
   ],
   "source": [
    "#program-3:Create an instance for the child class in child class and call abstract methods \n",
    "from abc import ABC, abstractmethod\n",
    "\n",
    "class MyAbstractClass(ABC):\n",
    "    @abstractmethod\n",
    "    def abstract_method(self):\n",
    "        pass\n",
    "\n",
    "class ConcreteClass(MyAbstractClass):\n",
    "    def abstract_method(self):\n",
    "        print(\"Abstract method implemented.\")\n",
    "\n",
    "    def create_and_call(self):\n",
    "\n",
    "        child_instance = ConcreteClass()\n",
    "        child_instance.abstract_method()  \n",
    "\n",
    "ConcreteClass().create_and_call()"
   ]
  },
  {
   "cell_type": "code",
   "execution_count": 4,
   "id": "b81f8341",
   "metadata": {},
   "outputs": [
    {
     "name": "stdout",
     "output_type": "stream",
     "text": [
      "Non-abstract method.\n"
     ]
    }
   ],
   "source": [
    "#program-4:Create an instance for the child class in child class and call non-abstract methods \n",
    "from abc import ABC, abstractmethod\n",
    "\n",
    "class MyAbstractClass(ABC):\n",
    "    @abstractmethod\n",
    "    def abstract_method(self):\n",
    "        pass\n",
    "    \n",
    "    def non_abstract_method(self):\n",
    "        print(\"Non-abstract method.\")\n",
    "\n",
    "class ConcreteClass(MyAbstractClass):\n",
    "    def abstract_method(self):\n",
    "        print(\"Abstract method implemented.\")\n",
    "\n",
    "    def create_and_access(self):\n",
    "        ConcreteClass().non_abstract_method()\n",
    "\n",
    "# Test\n",
    "ConcreteClass().create_and_access()"
   ]
  },
  {
   "cell_type": "code",
   "execution_count": null,
   "id": "4744cc3d",
   "metadata": {},
   "outputs": [],
   "source": []
  }
 ],
 "metadata": {
  "kernelspec": {
   "display_name": "Python 3 (ipykernel)",
   "language": "python",
   "name": "python3"
  },
  "language_info": {
   "codemirror_mode": {
    "name": "ipython",
    "version": 3
   },
   "file_extension": ".py",
   "mimetype": "text/x-python",
   "name": "python",
   "nbconvert_exporter": "python",
   "pygments_lexer": "ipython3",
   "version": "3.9.13"
  }
 },
 "nbformat": 4,
 "nbformat_minor": 5
}
