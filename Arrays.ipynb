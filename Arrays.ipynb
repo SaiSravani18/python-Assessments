{
 "cells": [
  {
   "cell_type": "code",
   "execution_count": 1,
   "id": "640a078a",
   "metadata": {},
   "outputs": [
    {
     "name": "stdout",
     "output_type": "stream",
     "text": [
      "Sum of array elements: 40\n"
     ]
    }
   ],
   "source": [
    "#Arrays\n",
    "#program-1: function to add integer values of an array \n",
    "def sum_of_array(arr):\n",
    "    total = sum(arr)  \n",
    "    return total\n",
    "\n",
    "numbers = [6, 7, 8, 9, 10]\n",
    "result = sum_of_array(numbers)\n",
    "print(f\"Sum of array elements: {result}\")"
   ]
  },
  {
   "cell_type": "code",
   "execution_count": 2,
   "id": "84005dec",
   "metadata": {},
   "outputs": [
    {
     "name": "stdout",
     "output_type": "stream",
     "text": [
      "Average value of array elements: 25.0\n"
     ]
    }
   ],
   "source": [
    "#program-2: function to calculate the average value of an array of integers \n",
    "def average_of_array(arr):\n",
    "    if len(arr) == 0: \n",
    "        return \"Array is empty\"\n",
    "    \n",
    "    total = sum(arr)\n",
    "    average = total / len(arr)  \n",
    "    return average\n",
    "\n",
    "numbers = [5, 15, 25, 35, 45]\n",
    "result = average_of_array(numbers)\n",
    "print(f\"Average value of array elements: {result}\")"
   ]
  },
  {
   "cell_type": "code",
   "execution_count": 4,
   "id": "3b0a51b3",
   "metadata": {},
   "outputs": [
    {
     "name": "stdout",
     "output_type": "stream",
     "text": [
      "Enter the number to find: 40\n",
      "Element 40 found at index 3.\n"
     ]
    }
   ],
   "source": [
    "#program-3:find the index of an array element \n",
    "def find_index(arr, target):\n",
    "    if target in arr:\n",
    "        return arr.index(target)\n",
    "    else:\n",
    "        return -1  \n",
    "\n",
    "numbers = [10, 20, 30, 40, 50]\n",
    "target_element = int(input(\"Enter the number to find: \"))\n",
    "\n",
    "index = find_index(numbers, target_element)\n",
    "\n",
    "if index != -1:\n",
    "    print(f\"Element {target_element} found at index {index}.\")\n",
    "else:\n",
    "    print(f\"Element {target_element} not found in the array.\")"
   ]
  },
  {
   "cell_type": "code",
   "execution_count": 5,
   "id": "a4067fac",
   "metadata": {},
   "outputs": [
    {
     "name": "stdout",
     "output_type": "stream",
     "text": [
      "Enter the number to search: 8\n",
      "Element 8 is present in the array.\n"
     ]
    }
   ],
   "source": [
    "#program-4:function to test if array contains a specific value \n",
    "def contains_value(arr, target):\n",
    "    return target in arr  \n",
    "\n",
    "\n",
    "numbers = [2, 4, 6, 8, 10]\n",
    "target_element = int(input(\"Enter the number to search: \"))\n",
    "\n",
    "if contains_value(numbers, target_element):\n",
    "    print(f\"Element {target_element} is present in the array.\")\n",
    "else:\n",
    "    print(f\"Element {target_element} is not found in the array.\")"
   ]
  },
  {
   "cell_type": "code",
   "execution_count": 6,
   "id": "649d9314",
   "metadata": {},
   "outputs": [
    {
     "name": "stdout",
     "output_type": "stream",
     "text": [
      "Enter the number to remove: 20\n",
      "Updated array: [10, 30, 40, 50]\n"
     ]
    }
   ],
   "source": [
    "#program-5:function to remove a specific element from an array \n",
    "def remove_element(arr, target):\n",
    "    if target in arr:\n",
    "        arr.remove(target)  \n",
    "        return arr\n",
    "    else:\n",
    "        return \"Element not found in the array\"\n",
    "\n",
    "numbers = [10, 20, 30, 40, 50]\n",
    "target_element = int(input(\"Enter the number to remove: \"))\n",
    "\n",
    "result = remove_element(numbers, target_element)\n",
    "\n",
    "print(f\"Updated array: {result}\")"
   ]
  },
  {
   "cell_type": "code",
   "execution_count": 9,
   "id": "abdec320",
   "metadata": {},
   "outputs": [
    {
     "name": "stdout",
     "output_type": "stream",
     "text": [
      "Original array: [1, 2, 3, 4, 5]\n",
      "Copied array: [1, 2, 3, 4, 5]\n"
     ]
    }
   ],
   "source": [
    "#program-6: function to copy an array to another array\n",
    "def copy_array(original_array):\n",
    "    new_array = original_array.copy()  # Creates a copy of the original array\n",
    "    return new_array\n",
    "\n",
    "# Example usage\n",
    "numbers = [1, 2, 3, 4, 5]\n",
    "copied_numbers = copy_array(numbers)\n",
    "\n",
    "print(f\"Original array: {numbers}\")\n",
    "print(f\"Copied array: {copied_numbers}\")"
   ]
  },
  {
   "cell_type": "code",
   "execution_count": 10,
   "id": "229c8dc0",
   "metadata": {},
   "outputs": [
    {
     "name": "stdout",
     "output_type": "stream",
     "text": [
      "Enter the element to insert: 66\n",
      "Enter the position (index) to insert at: 2\n",
      "Updated Array: [11, 22, 66, 33, 44, 55]\n"
     ]
    }
   ],
   "source": [
    "#program-7: function to insert an element at a specific position in the array\n",
    "def insert_element(arr, element, position):\n",
    "    if position < 0 or position > len(arr):\n",
    "        print(\"Invalid position!\")\n",
    "        return arr \n",
    "    arr.insert(position, element) \n",
    "    return arr\n",
    "\n",
    "\n",
    "arr = [11, 22, 33, 44, 55]\n",
    "element = int(input(\"Enter the element to insert: \"))\n",
    "position = int(input(\"Enter the position (index) to insert at: \"))\n",
    "\n",
    "updated_arr = insert_element(arr, element, position)\n",
    "\n",
    "print(\"Updated Array:\", updated_arr)"
   ]
  },
  {
   "cell_type": "code",
   "execution_count": 11,
   "id": "4eefef8a",
   "metadata": {},
   "outputs": [
    {
     "name": "stdout",
     "output_type": "stream",
     "text": [
      "Minimum Value: 1\n",
      "Maximum Value: 78\n"
     ]
    }
   ],
   "source": [
    "#program-8: function to find the minimum and maximum value of an array \n",
    "def find_min_max(arr):\n",
    "    if not arr:\n",
    "        return \"Array is empty!\"  \n",
    "    \n",
    "    min_value = min(arr) \n",
    "    max_value = max(arr)  \n",
    "    \n",
    "    return min_value, max_value \n",
    "\n",
    "arr = [10, 45, 2, 78, 23, 56, 1]\n",
    "min_val, max_val = find_min_max(arr)\n",
    "\n",
    "print(f\"Minimum Value: {min_val}\")\n",
    "print(f\"Maximum Value: {max_val}\")"
   ]
  },
  {
   "cell_type": "code",
   "execution_count": 13,
   "id": "c3eb5a59",
   "metadata": {},
   "outputs": [
    {
     "name": "stdout",
     "output_type": "stream",
     "text": [
      "Original array: [11, 22, 33, 44, 55]\n",
      "Reversed array: [55, 44, 33, 22, 11]\n"
     ]
    }
   ],
   "source": [
    "#program-9: function to reverse an array of integer values \n",
    "def reverse_array(arr):\n",
    "    return arr[::-1] \n",
    "\n",
    "numbers = [11, 22, 33, 44, 55]\n",
    "reversed_numbers = reverse_array(numbers)\n",
    "\n",
    "print(f\"Original array: {numbers}\")\n",
    "print(f\"Reversed array: {reversed_numbers}\")\n"
   ]
  },
  {
   "cell_type": "code",
   "execution_count": 14,
   "id": "02d3bf2f",
   "metadata": {},
   "outputs": [
    {
     "name": "stdout",
     "output_type": "stream",
     "text": [
      "Duplicate values: [8, 2, 3]\n"
     ]
    }
   ],
   "source": [
    "#program-10: function to find the duplicate values of an array\n",
    "def find_duplicates_set(arr):\n",
    "    seen = set()\n",
    "    duplicates = set()\n",
    "\n",
    "    for num in arr:\n",
    "        if num in seen:\n",
    "            duplicates.add(num)  \n",
    "        else:\n",
    "            seen.add(num)\n",
    "\n",
    "    return list(duplicates)\n",
    "\n",
    "arr = [1, 2, 3, 4, 5, 2, 3, 6, 7, 8, 8, 9]\n",
    "duplicates = find_duplicates_set(arr)\n",
    "\n",
    "print(\"Duplicate values:\", duplicates)"
   ]
  },
  {
   "cell_type": "code",
   "execution_count": 15,
   "id": "b7019cae",
   "metadata": {},
   "outputs": [
    {
     "name": "stdout",
     "output_type": "stream",
     "text": [
      "Common values: [2, 4]\n"
     ]
    }
   ],
   "source": [
    "#program-11: find the common values between two arrays \n",
    "def find_common_values_manual(arr1, arr2):\n",
    "    common = []\n",
    "    for num in arr1:\n",
    "        if num in arr2 and num not in common:\n",
    "            common.append(num)  \n",
    "    return common\n",
    "\n",
    "arr1 = [1, 2, 9, 9, 4, 8]\n",
    "arr2 = [2, 4, 2, 5, 6]\n",
    "\n",
    "common_values = find_common_values_manual(arr1, arr2)\n",
    "\n",
    "print(\"Common values:\", common_values)"
   ]
  },
  {
   "cell_type": "code",
   "execution_count": 17,
   "id": "26f2a00e",
   "metadata": {},
   "outputs": [
    {
     "name": "stdout",
     "output_type": "stream",
     "text": [
      "Array without duplicates (Ordered): [1, 2, 7, 3, 4, 5, 6]\n"
     ]
    }
   ],
   "source": [
    "#program-12: remove duplicate elements from an array \n",
    "def remove_duplicates_ordered(arr):\n",
    "    unique_list = []\n",
    "    for num in arr:\n",
    "        if num not in unique_list:\n",
    "            unique_list.append(num) \n",
    "    return unique_list\n",
    "\n",
    "\n",
    "arr = [1, 2, 7, 3, 1, 4, 5, 5, 6, 7]\n",
    "unique_arr = remove_duplicates_ordered(arr)\n",
    "\n",
    "print(\"Array without duplicates (Ordered):\", unique_arr)\n",
    " "
   ]
  },
  {
   "cell_type": "code",
   "execution_count": 18,
   "id": "59631a95",
   "metadata": {},
   "outputs": [
    {
     "name": "stdout",
     "output_type": "stream",
     "text": [
      "34\n"
     ]
    }
   ],
   "source": [
    "#program-13: find the second largest number in an array\n",
    "def second_largest(arr):\n",
    "\n",
    "    first, second = float('-inf'), float('-inf')\n",
    "    \n",
    "    for num in arr:\n",
    "        if num > first:\n",
    "            second = first\n",
    "            first = num\n",
    "        elif num > second and num != first:\n",
    "            second = num\n",
    "    \n",
    "   \n",
    "    if second == float('-inf'):\n",
    "        return None\n",
    "    \n",
    "    return second\n",
    "\n",
    "arr = [12, 35, 1, 10, 34, 1]\n",
    "print(second_largest(arr))  \n"
   ]
  },
  {
   "cell_type": "code",
   "execution_count": 20,
   "id": "36def5d0",
   "metadata": {},
   "outputs": [
    {
     "name": "stdout",
     "output_type": "stream",
     "text": [
      "34\n"
     ]
    }
   ],
   "source": [
    "#program-14: find the second largest number in an array \n",
    "def second_largest(arr):\n",
    "\n",
    "    first, second = float('-inf'), float('-inf')\n",
    "    \n",
    "    for num in arr:\n",
    "        if num > first:\n",
    "            second = first\n",
    "            first = num\n",
    "        elif num > second and num != first:\n",
    "            second = num\n",
    "    \n",
    "   \n",
    "    if second == float('-inf'):\n",
    "        return None\n",
    "    \n",
    "    return second\n",
    "\n",
    "arr = [12, 35, 1, 10, 34, 1]\n",
    "print(second_largest(arr))\n",
    "    "
   ]
  },
  {
   "cell_type": "code",
   "execution_count": 21,
   "id": "78062645",
   "metadata": {},
   "outputs": [
    {
     "name": "stdout",
     "output_type": "stream",
     "text": [
      "Even numbers: 5, Odd numbers: 5\n"
     ]
    }
   ],
   "source": [
    "#program-15:  find number of even number and odd numbers in an array\n",
    "def count_even_odd(arr):\n",
    "    even_count = 0\n",
    "    odd_count = 0\n",
    "    \n",
    "    for num in arr:\n",
    "        if num % 2 == 0:\n",
    "            even_count += 1\n",
    "        else:\n",
    "            odd_count += 1\n",
    "    \n",
    "    return even_count, odd_count\n",
    "\n",
    "arr = [11, 22, 33, 44, 55, 66, 77, 88, 99, 100]\n",
    "even_count, odd_count = count_even_odd(arr)\n",
    "print(f\"Even numbers: {even_count}, Odd numbers: {odd_count}\")"
   ]
  },
  {
   "cell_type": "code",
   "execution_count": 22,
   "id": "c37183a0",
   "metadata": {},
   "outputs": [
    {
     "name": "stdout",
     "output_type": "stream",
     "text": [
      "The difference between the largest and smallest value is: 44\n"
     ]
    }
   ],
   "source": [
    "#program-16: function to get the difference of largest and smallest value \n",
    "def difference_largest_smallest(input_list):\n",
    "\n",
    "    if len(input_list) == 0:\n",
    "        return \"The list is empty\"\n",
    "\n",
    "  \n",
    "    largest = max(input_list)\n",
    "    smallest = min(input_list)\n",
    "\n",
    "    return largest - smallest\n",
    "\n",
    "input_list = [10, 2, 34, 45, 1, 29, 3]\n",
    "\n",
    "result = difference_largest_smallest(input_list)\n",
    "\n",
    "print(\"The difference between the largest and smallest value is:\", result)"
   ]
  },
  {
   "cell_type": "code",
   "execution_count": 23,
   "id": "9bcc844b",
   "metadata": {},
   "outputs": [
    {
     "name": "stdout",
     "output_type": "stream",
     "text": [
      "The list contains both 12 and 23.\n"
     ]
    }
   ],
   "source": [
    "#projram-17:method to verify if the array contains two specified elements(12,23) \n",
    "def contains_elements(input_list, element1, element2):\n",
    "   \n",
    "    if element1 in input_list and element2 in input_list:\n",
    "        return True\n",
    "    else:\n",
    "        return False\n",
    "\n",
    "input_list = [5, 12, 8, 23, 14, 7]\n",
    "\n",
    "result = contains_elements(input_list, 12, 23)\n",
    "\n",
    "if result:\n",
    "    print(\"The list contains both 12 and 23.\")\n",
    "else:\n",
    "    print(\"The list does not contain both 12 and 23.\")"
   ]
  },
  {
   "cell_type": "code",
   "execution_count": 25,
   "id": "99059300",
   "metadata": {},
   "outputs": [
    {
     "name": "stdout",
     "output_type": "stream",
     "text": [
      "Original list: [1, 2, 3, 4, 2, 5, 3, 6, 1]\n",
      "New list after removing duplicates: [1, 2, 3, 4, 5, 6]\n"
     ]
    }
   ],
   "source": [
    "#project-18: remove the duplicate elements and return the new array\n",
    "def remove_duplicates(input_list):\n",
    "\n",
    "    return list(set(input_list))\n",
    "\n",
    "input_list = [1, 2, 3, 4, 2, 5, 3, 6, 1]\n",
    "\n",
    "new_list = remove_duplicates(input_list)\n",
    "\n",
    "print(\"Original list:\", input_list)\n",
    "print(\"New list after removing duplicates:\", new_list)"
   ]
  },
  {
   "cell_type": "code",
   "execution_count": null,
   "id": "c062ab61",
   "metadata": {},
   "outputs": [],
   "source": []
  }
 ],
 "metadata": {
  "kernelspec": {
   "display_name": "Python 3 (ipykernel)",
   "language": "python",
   "name": "python3"
  },
  "language_info": {
   "codemirror_mode": {
    "name": "ipython",
    "version": 3
   },
   "file_extension": ".py",
   "mimetype": "text/x-python",
   "name": "python",
   "nbconvert_exporter": "python",
   "pygments_lexer": "ipython3",
   "version": "3.9.13"
  }
 },
 "nbformat": 4,
 "nbformat_minor": 5
}
