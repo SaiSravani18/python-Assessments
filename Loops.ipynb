{
 "cells": [
  {
   "cell_type": "code",
   "execution_count": 1,
   "id": "b3423ff2",
   "metadata": {},
   "outputs": [
    {
     "name": "stdout",
     "output_type": "stream",
     "text": [
      "Bright IT career\n",
      "Bright IT career\n",
      "Bright IT career\n",
      "Bright IT career\n",
      "Bright IT career\n",
      "Bright IT career\n",
      "Bright IT career\n",
      "Bright IT career\n",
      "Bright IT career\n",
      "Bright IT career\n"
     ]
    }
   ],
   "source": [
    "#loops\n",
    "#profram-1: print \"Bright IT career 10 times\"\n",
    "for i in range(10):\n",
    "    print(\"Bright IT career\")"
   ]
  },
  {
   "cell_type": "code",
   "execution_count": 2,
   "id": "11bd361f",
   "metadata": {},
   "outputs": [
    {
     "name": "stdout",
     "output_type": "stream",
     "text": [
      "1\n",
      "2\n",
      "3\n",
      "4\n",
      "5\n",
      "6\n",
      "7\n",
      "8\n",
      "9\n",
      "10\n",
      "11\n",
      "12\n",
      "13\n",
      "14\n",
      "15\n",
      "16\n",
      "17\n",
      "18\n",
      "19\n",
      "20\n"
     ]
    }
   ],
   "source": [
    "#program-2:print 1 to 20 numbers using the while loop\n",
    "number = 1\n",
    "while number <= 20:\n",
    "    print(number)\n",
    "    number += 1  "
   ]
  },
  {
   "cell_type": "code",
   "execution_count": 3,
   "id": "3ca00143",
   "metadata": {},
   "outputs": [
    {
     "name": "stdout",
     "output_type": "stream",
     "text": [
      "Enter the first number: 18\n",
      "Enter the second number: 19\n",
      "18 is not equal to 19\n",
      "18 is not equal to 19\n"
     ]
    }
   ],
   "source": [
    "#program-3:equal or not equal operator\n",
    "X = int(input(\"Enter the first number: \"))\n",
    "Y = int(input(\"Enter the second number: \"))\n",
    "\n",
    "#equal\n",
    "if X == Y:\n",
    "    print(f\"{X} is equal to {Y}\")\n",
    "else:\n",
    "    print(f\"{X} is not equal to {Y}\")\n",
    "\n",
    "#not equal\n",
    "if X != Y:\n",
    "    print(f\"{X} is not equal to {Y}\")\n",
    "else:\n",
    "    print(f\"{X} is equal to {Y}\")"
   ]
  },
  {
   "cell_type": "code",
   "execution_count": 4,
   "id": "8010dc75",
   "metadata": {},
   "outputs": [
    {
     "name": "stdout",
     "output_type": "stream",
     "text": [
      "1 is Odd\n",
      "2 is Even\n",
      "3 is Odd\n",
      "4 is Even\n",
      "5 is Odd\n",
      "6 is Even\n",
      "7 is Odd\n",
      "8 is Even\n",
      "9 is Odd\n",
      "10 is Even\n",
      "11 is Odd\n",
      "12 is Even\n",
      "13 is Odd\n",
      "14 is Even\n",
      "15 is Odd\n",
      "16 is Even\n",
      "17 is Odd\n",
      "18 is Even\n",
      "19 is Odd\n",
      "20 is Even\n",
      "21 is Odd\n",
      "22 is Even\n",
      "23 is Odd\n",
      "24 is Even\n",
      "25 is Odd\n",
      "26 is Even\n",
      "27 is Odd\n",
      "28 is Even\n",
      "29 is Odd\n"
     ]
    }
   ],
   "source": [
    "#program-4:print odd and even numbers\n",
    "for num in range(1, 30):\n",
    "    if num % 2 == 0:\n",
    "        print(f\"{num} is Even\")\n",
    "    else:\n",
    "        print(f\"{num} is Odd\")"
   ]
  },
  {
   "cell_type": "code",
   "execution_count": 5,
   "id": "4fdbd556",
   "metadata": {},
   "outputs": [
    {
     "name": "stdout",
     "output_type": "stream",
     "text": [
      "Enter first number: 54\n",
      "Enter second number: 45\n",
      "Enter third number: 73\n",
      "The largest number is: 73\n"
     ]
    }
   ],
   "source": [
    "#program-5: print largest number among three numbers\n",
    "def find_largest(a, b, c):\n",
    "    if a >= b and a >= c:\n",
    "        largest = a\n",
    "    elif b >= a and b >= c:\n",
    "        largest = b\n",
    "    else:\n",
    "        largest = c\n",
    "    return largest\n",
    "\n",
    "# Example\n",
    "A = int(input(\"Enter first number: \"))\n",
    "B = int(input(\"Enter second number: \"))\n",
    "C = int(input(\"Enter third number: \"))\n",
    "\n",
    "largest_number = find_largest(A, B, C)\n",
    "print(f\"The largest number is: {largest_number}\")  "
   ]
  },
  {
   "cell_type": "code",
   "execution_count": 6,
   "id": "fb1e4488",
   "metadata": {},
   "outputs": [
    {
     "name": "stdout",
     "output_type": "stream",
     "text": [
      "10\n",
      "12\n",
      "14\n",
      "16\n",
      "18\n",
      "20\n"
     ]
    }
   ],
   "source": [
    "#program-6: print even number between 10 and 20 using while \n",
    "num = 10 \n",
    "\n",
    "while num <= 20: \n",
    "    if num % 2 == 0: \n",
    "        print(num)\n",
    "    num += 1  "
   ]
  },
  {
   "cell_type": "code",
   "execution_count": 8,
   "id": "3840e55d",
   "metadata": {},
   "outputs": [
    {
     "name": "stdout",
     "output_type": "stream",
     "text": [
      "1\n",
      "2\n",
      "3\n",
      "4\n",
      "5\n",
      "6\n",
      "7\n",
      "8\n",
      "9\n",
      "10\n"
     ]
    }
   ],
   "source": [
    "#program-7:print 1 to 10 using the do-while loop statement\n",
    "num = 1 \n",
    "\n",
    "while True:  \n",
    "    print(num)\n",
    "    num += 1\n",
    "    if num > 10:  \n",
    "        break"
   ]
  },
  {
   "cell_type": "code",
   "execution_count": 9,
   "id": "9da2870e",
   "metadata": {},
   "outputs": [
    {
     "name": "stdout",
     "output_type": "stream",
     "text": [
      "Enter a number: 153\n",
      "153 is an Armstrong number.\n"
     ]
    }
   ],
   "source": [
    "#program-8:find Armstrong number or not\n",
    "def is_armstrong(num):\n",
    "    num_str = str(num)\n",
    "    num_digits = len(num_str)\n",
    "    sum_of_powers = sum(int(digit) ** num_digits for digit in num_str)\n",
    "    \n",
    "    return sum_of_powers == num\n",
    "\n",
    "number = int(input(\"Enter a number: \"))\n",
    "\n",
    "if is_armstrong(number):\n",
    "    print(f\"{number} is an Armstrong number.\")\n",
    "else:\n",
    "    print(f\"{number} is not an Armstrong number.\")\n",
    "    "
   ]
  },
  {
   "cell_type": "code",
   "execution_count": 10,
   "id": "8b56046c",
   "metadata": {},
   "outputs": [
    {
     "name": "stdout",
     "output_type": "stream",
     "text": [
      "Enter a number: 21\n",
      "21 is Not a Prime number.\n"
     ]
    }
   ],
   "source": [
    "#program-9:find the prime or not\n",
    "def is_prime(n):\n",
    "    if n <= 1:\n",
    "        return False \n",
    "    for i in range(2, int(n ** 0.5) + 1): \n",
    "        if n % i == 0:\n",
    "            return False  \n",
    "    return True \n",
    "\n",
    "\n",
    "num = int(input(\"Enter a number: \"))\n",
    "\n",
    "\n",
    "if is_prime(num):\n",
    "    print(f\"{num} is a Prime number.\")\n",
    "else:\n",
    "    print(f\"{num} is Not a Prime number.\")\n",
    "\n"
   ]
  },
  {
   "cell_type": "code",
   "execution_count": 11,
   "id": "9d6b1293",
   "metadata": {},
   "outputs": [
    {
     "name": "stdout",
     "output_type": "stream",
     "text": [
      "Enter a number or string: mam\n",
      "mam is a Palindrome.\n"
     ]
    }
   ],
   "source": [
    "#program-10: palindrome or not\n",
    "def is_palindrome(value):\n",
    "    value = str(value)  \n",
    "    return value == value[::-1] \n",
    "\n",
    "\n",
    "user_input = input(\"Enter a number or string: \")\n",
    "\n",
    "\n",
    "if is_palindrome(user_input):\n",
    "    print(f\"{user_input} is a Palindrome.\")\n",
    "else:\n",
    "    print(f\"{user_input} is Not a Palindrome.\")\n"
   ]
  },
  {
   "cell_type": "code",
   "execution_count": 12,
   "id": "a8ff8dc7",
   "metadata": {},
   "outputs": [
    {
     "name": "stdout",
     "output_type": "stream",
     "text": [
      "Enter a number: 25\n",
      "25 is Odd.\n"
     ]
    }
   ],
   "source": [
    "#program-11:a number is EVEN or ODD using switch\n",
    "def check_even_odd(num):\n",
    "    switch = {\n",
    "        0: \"Even\", \n",
    "        1: \"Odd\"    \n",
    "    }\n",
    "    return switch[num % 2] \n",
    "\n",
    "num = int(input(\"Enter a number: \"))\n",
    "print(f\"{num} is {check_even_odd(num)}.\")\n",
    "\n"
   ]
  },
  {
   "cell_type": "code",
   "execution_count": 14,
   "id": "8a070b6b",
   "metadata": {},
   "outputs": [
    {
     "name": "stdout",
     "output_type": "stream",
     "text": [
      "Enter M or F: f\n",
      "Gender: Female\n"
     ]
    }
   ],
   "source": [
    "#program-12:Print gender using switch\n",
    "def get_gender(gender):\n",
    "    switch = {\n",
    "        'M': \"Male\",\n",
    "        'F': \"Female\"\n",
    "    }\n",
    "    return switch.get(gender.upper(), \"Invalid input\")  \n",
    "\n",
    "gender = input(\"Enter M or F: \")\n",
    "print(f\"Gender: {get_gender(gender)}\")\n",
    "\n",
    "\n",
    "\n"
   ]
  },
  {
   "cell_type": "code",
   "execution_count": null,
   "id": "8dd9e3ed",
   "metadata": {},
   "outputs": [],
   "source": []
  }
 ],
 "metadata": {
  "kernelspec": {
   "display_name": "Python 3 (ipykernel)",
   "language": "python",
   "name": "python3"
  },
  "language_info": {
   "codemirror_mode": {
    "name": "ipython",
    "version": 3
   },
   "file_extension": ".py",
   "mimetype": "text/x-python",
   "name": "python",
   "nbconvert_exporter": "python",
   "pygments_lexer": "ipython3",
   "version": "3.9.13"
  }
 },
 "nbformat": 4,
 "nbformat_minor": 5
}
